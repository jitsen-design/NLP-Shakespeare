{
 "cells": [
  {
   "cell_type": "markdown",
   "metadata": {},
   "source": [
    "Import required modules, libraries and Shakespearean text for project"
   ]
  },
  {
   "cell_type": "code",
   "execution_count": 21,
   "metadata": {
    "collapsed": true
   },
   "outputs": [],
   "source": [
    "from __future__ import print_function\n",
    "import nltk\n",
    "import pandas as pd\n",
    "from nltk.tokenize import sent_tokenize, word_tokenize \n",
    "from nltk.tokenize import TreebankWordTokenizer\n",
    "import urllib.request\n",
    "from nltk.tag import pos_tag\n",
    "from nltk.chunk import ne_chunk\n",
    "from textblob import TextBlob\n",
    "from nltk.util import ngrams\n",
    "from collections import Counter\n",
    "from operator import itemgetter\n",
    "from nltk.corpus import stopwords\n",
    "from sklearn.feature_extraction.text import CountVectorizer\n",
    "from scipy.sparse.linalg import svds\n",
    "import gensim\n",
    "from functools import reduce\n",
    "from sklearn.feature_extraction.text import TfidfVectorizer\n",
    "from sklearn.decomposition import NMF, LatentDirichletAllocation\n",
    "import pandas as pd\n",
    "import os\n",
    "import string\n",
    "import re\n",
    "from sklearn.manifold import TSNE\n",
    "import matplotlib.pyplot as plt\n",
    "%matplotlib inline\n",
    "from collections import defaultdict\n",
    "\n",
    "Much_Ado = urllib.request.urlopen('http://www.textfiles.com/etext/AUTHORS/SHAKESPEARE/shakespeare-much-3.txt').read()\n",
    "Much_Ado_lines = Much_Ado.decode('utf8')# Much Ado About Nothing\n",
    "Tempest = urllib.request.urlopen('http://www.textfiles.com/etext/AUTHORS/SHAKESPEARE/shakespeare-tempest-4.txt').read()\n",
    "Tempest_lines = Tempest.decode('utf8')# The Tempest\n",
    "Richard = urllib.request.urlopen('http://www.textfiles.com/etext/AUTHORS/SHAKESPEARE/shakespeare-tragedy-58.txt').read()\n",
    "Richard_lines = Richard.decode('utf8') # Richard III\n",
    "Winter = urllib.request.urlopen('http://www.textfiles.com/etext/AUTHORS/SHAKESPEARE/shakespeare-winters-19.txt').read()\n",
    "Winter_lines = Winter.decode('utf8') # A Winter's Tale\n",
    "Merchant = urllib.request.urlopen('http://www.textfiles.com/etext/AUTHORS/SHAKESPEARE/shakespeare-merchant-5.txt').read()\n",
    "Merchant_lines = Merchant.decode('utf8') # The MErchant of Venice\n",
    "Midsummer = urllib.request.urlopen('http://www.textfiles.com/etext/AUTHORS/SHAKESPEARE/shakespeare-midsummer-16.txt').read()\n",
    "Midsummer_lines = Midsummer.decode('utf8') # A Midsummer Night's Dream  \n",
    "Measure = urllib.request.urlopen('http://www.textfiles.com/etext/AUTHORS/SHAKESPEARE/shakespeare-measure-13.txt').read()\n",
    "Measure_lines = Measure.decode('utf8') # Measure for Measure\n",
    "Macbeth = urllib.request.urlopen('http://www.textfiles.com/etext/AUTHORS/SHAKESPEARE/shakespeare-macbeth-46.txt').read()\n",
    "Macbeth_lines = Macbeth.decode('utf8') # Macbeth\n",
    "Hamlet = urllib.request.urlopen('http://www.textfiles.com/etext/AUTHORS/SHAKESPEARE/shakespeare-hamlet-25.txt').read()\n",
    "Hamlet_lines = Hamlet.decode('utf8') # Hamlet\n",
    "Cymbeline = urllib.request.urlopen('http://www.textfiles.com/etext/AUTHORS/SHAKESPEARE/shakespeare-cymbeline-17.txt').read()\n",
    "Cymbeline_lines = Cymbeline.decode('utf8') # Cymberline\n",
    "Jacobian_Plays = Cymbeline_lines+Measure_lines+Winter_lines\n",
    "Early_Com = Much_Ado_lines+Midsummer_lines+Merchant_lines\n",
    "Tragedies = Richard_lines+Hamlet_lines+Macbeth_lines"
   ]
  },
  {
   "cell_type": "code",
   "execution_count": null,
   "metadata": {
    "collapsed": true
   },
   "outputs": [],
   "source": [
    "Introduce stopwords, including a corpus of Shakespearean stopwords."
   ]
  },
  {
   "cell_type": "code",
   "execution_count": 17,
   "metadata": {
    "collapsed": true
   },
   "outputs": [],
   "source": [
    "from nltk.corpus import stopwords\n",
    "stop = stopwords.words('english')\n",
    "stop += ['|','[',']','Messenger','shall','must','would','Would','Don','Pedro','John','Claudio','Benedick',\n",
    "         'Leonato','Antonio','Balthazar','Conrade','Borachio','Francis','Dogberry','Verges'\n",
    "         'Sexton','sexton','Hero','Beatrice','Margaret','Ursula','Alonso','Sebastian','Prospero','Antonio',\n",
    "         'Fernando','Gonzalo','Francisco','Caliban','Trinculo','Stephano','Boatswain','Mariners',\n",
    "         'Miranda', 'Ariel','Iris','Ceres','Juno','Nymphs', 'Edward','Richard','George','Clarence','Henry','Cardinal',\n",
    "         'Bouchier','Thomas', 'Rotherham', 'John', 'Morton', 'Hastings','Lord','Earl','Lovel','Oxford','Stanley',\n",
    "         'Ratcliff','Vaughan','Rivers','Buckingham','Surrey''James','Tyrell','Blount','Ratcliff','Herbert','Lady',\n",
    "         'Anne','Margaret','Elizabeth','Duchess','York','Robert', 'Brankenbury','Christopher','Urswick','Leontes',\n",
    "         'Mamillius', 'Camillo', 'Antigonus','Cleomenes','Dion','Polixenes','Florizel','Archidamus','Shepherd','Clown',\n",
    "         'Autolycus','Mariner','A Gaoler','Hermione','Perdita','Paulina','Emilia','Mopsa','Dorcas',\n",
    "         'Shylock','Portia','Bassanio','Antonio','Gratiano','Launcelot','Gobbo','Solanio','Salarino','Salerio','Stephano', \n",
    "         'Jessica','Duke of Venice','Nerissa','Prince of Morocco', 'Price of Arragon', 'Duke', 'Lorenzo',\n",
    "         'Tubal', 'Balzarina','Balthazar','Titania','Oberon','Hippolyta','Hermia','Puck','Lysander','Nick Bottom','Helena',\n",
    "         'Egeus','Demetrius','Peter','Quince','Philostrate','Robin','Starveling','Francis Flute','Tom', 'Snout','Snug','Theseus',\n",
    "         'Cobweb','Lady Macbeth','Banquo','King Duncan','Macduff','Macbeth','Fleance','Young','Siward','Malcolm','Donalbain',\n",
    "         'Third Murderer','Lady Macduff','Seyton','Witch #3','Witch #1','Witch #2','Murderer','Murderer','Doctor',\n",
    "         'Ross','Angus','Old Man','Child #1','Lennox','Captain','Porter','Gentlewoman','Servant','Claudius','Hamlet','Polonius',\n",
    "         'Horatio','Laertes','Lucianus','Voltimand','Cornelius','Rosencrantz','Guildenstern','Osric','Marcellus','Bernardo',\n",
    "         'Francisco','Reynaldo','First Player','Player King','Player Queen','First Clown','Second Clown','Fortinbras',\n",
    "         'First Ambassador','Gertrude','Ophelia','Imogen','Iachimo','Pisanio','Belarius','Philario','Cloten','Caius Lucius','Posthumus Leonatus',\n",
    "         'Arviragus','Soothsayer','Helen','Cymbeline','Guiderius','Pyramus','Thisby','c','h','v','Duke Od Venice','Brabantio', 'First Senator','Second Senator',\n",
    "         'Gratiano','Lodovico','Othello','Cassio','Iago','Roderigo','Montano','Clown','Desdemona','Emilia','Sailor','First Officer','Messenger',\n",
    "         'First Gentleman','Second Gentleman','Third Gentleman','First Musician']\n",
    "         \n",
    "stop += open('new_stop.txt','r').readlines()\n",
    "stop = [i.replace('\\n',\"\") for i in stop]\n",
    "stop = [x.lower() for x in stop]\n",
    "\n"
   ]
  },
  {
   "cell_type": "markdown",
   "metadata": {},
   "source": [
    "Create functions to clean text and separate by act"
   ]
  },
  {
   "cell_type": "code",
   "execution_count": null,
   "metadata": {
    "collapsed": true
   },
   "outputs": [],
   "source": [
    "def Topic_Model(play): # clean text\n",
    "    Vocab = []\n",
    "    play_lines = []\n",
    "    Object = play[play.find(\"ACT\"):]\n",
    "    for line in sent_tokenize(Object):\n",
    "        line = re.sub('[A-Z]{2,}',' ',line)\n",
    "        line = re.sub(\"\\[[^\\]]*\\]\",\"\",line)\n",
    "        line= re.sub('[%s]' % re.escape(string.punctuation), '', line)\n",
    "        line = line.lower()\n",
    "        play_lines.append(line.split())\n",
    "    for i in play_lines:\n",
    "        Vocab.append(' '.join(list(filter(lambda x: x not in stop, i))))\n",
    "    return Vocab\n",
    "\n",
    "def Find_Acts_Model(play): # separate text by act\n",
    "    play_Acts = {}\n",
    "    play_Acts2 = {}\n",
    "    i = 0\n",
    "    b = 0\n",
    "    for x in range(1,play.count('ACT')+1):\n",
    "        i = play.find(\"ACT\",+ b)\n",
    "        b = play.find(\"ACT\", i + 1)\n",
    "        play_Acts[x] = play[i:b]\n",
    "    for i in ['ACT I','ACT II','ACT III','ACT IV','ACT V']:\n",
    "        play_Acts2[i] = []\n",
    "    for k,v in play_Acts.items():\n",
    "        for i,j in play_Acts2.items():\n",
    "            if i in v.split('\\n'):\n",
    "                play_Acts2[i].append(v)\n",
    "    return play_Acts2\n"
   ]
  },
  {
   "cell_type": "markdown",
   "metadata": {},
   "source": [
    "Create function applying Word2Vec to text"
   ]
  },
  {
   "cell_type": "markdown",
   "metadata": {
    "collapsed": true
   },
   "source": [
    "def W2V(play,Act):\n",
    "    return gensim.models.Word2Vec([x.split() for x in Topic_Model(str(' '.join(Find_Acts_Model(play)[Act])))],size=100,min_count=1,workers=2)"
   ]
  },
  {
   "cell_type": "markdown",
   "metadata": {},
   "source": [
    "Create function to run NMF(Non-Negative Matrix Factorization) and LDA (Latent Dirichlet Allocation) and find top \n",
    "words for topics"
   ]
  },
  {
   "cell_type": "code",
   "execution_count": 19,
   "metadata": {},
   "outputs": [],
   "source": [
    "def NMF_LDA(play):\n",
    "    maxdf = .9\n",
    "    mindf = 2\n",
    "    no_top_words = 5\n",
    "    no_topics = 5\n",
    "\n",
    "    tfidf_vectorizer1 = TfidfVectorizer(ngram_range=(1, 1),max_df=maxdf, min_df=mindf, stop_words= stop)\n",
    "    tfidf1 = tfidf_vectorizer1.fit_transform(Topic_Model(play))\n",
    "    tfidf_feature_names1 = tfidf_vectorizer1.get_feature_names()\n",
    "\n",
    "    ct_vectorizer1 = CountVectorizer(max_df=maxdf, min_df=mindf, stop_words=stop)\n",
    "    ct1 = ct_vectorizer1.fit_transform(Topic_Model(play))\n",
    "    tf_feature_names1 = ct_vectorizer1.get_feature_names()\n",
    "\n",
    "    # Run NMF\n",
    "    nmf1 = NMF(n_components=5)\n",
    "    nmf1.fit_transform(tfidf1)\n",
    "\n",
    "    # Run LDA\n",
    "    lda1 = LatentDirichletAllocation(n_topics=no_topics, max_iter=50,\n",
    "\n",
    "                                   learning_method='online', learning_offset=50.,\n",
    "                                   random_state=0).fit(ct1)\n",
    "    def display_topics(model, feature_names, no_top_words, model_used):\n",
    "        print (model_used)\n",
    "        for topic_idx, topic in enumerate(model.components_):\n",
    "            print (\"Topic %d:\" % topic_idx)\n",
    "            print (\" \".join([feature_names[i]\n",
    "            for i in topic.argsort()[:-no_top_words - 1:-1]]))\n",
    "    \n",
    "    return display_topics(nmf1, tfidf_feature_names1, no_top_words, \"NMF\"),display_topics(lda1, tf_feature_names1, no_top_words, \"LDA\")\n",
    "\n"
   ]
  },
  {
   "cell_type": "markdown",
   "metadata": {},
   "source": [
    "Run NMF/LDA model by Act on Hamlet"
   ]
  },
  {
   "cell_type": "code",
   "execution_count": 20,
   "metadata": {},
   "outputs": [
    {
     "name": "stdout",
     "output_type": "stream",
     "text": [
      "NMF\n",
      "Topic 0:\n",
      "speak charge hear cock sword\n",
      "Topic 1:\n",
      "ghost swear come hour poor\n",
      "Topic 2:\n",
      "tis good like king father\n",
      "Topic 3:\n",
      "heaven earth ay secure things\n",
      "Topic 4:\n",
      "go ill follow nay lets\n",
      "LDA\n",
      "Topic 0:\n",
      "time remember farewell heartily king\n",
      "Topic 1:\n",
      "think night day earth nature\n",
      "Topic 2:\n",
      "heaven speak nay king father\n",
      "Topic 3:\n",
      "ghost swear come sword upon\n",
      "Topic 4:\n",
      "good go may tis give\n",
      "ACT I (None, None)\n",
      "NMF\n",
      "Topic 0:\n",
      "good friends leave command queen\n",
      "Topic 1:\n",
      "well see upon fare business\n",
      "Topic 2:\n",
      "say sir come man hes\n",
      "Topic 3:\n",
      "ay know first player god\n",
      "Topic 4:\n",
      "dear welcome friends masters love\n",
      "LDA\n",
      "Topic 0:\n",
      "ill love players tell queen\n",
      "Topic 1:\n",
      "good welcome dear tis friends\n",
      "Topic 2:\n",
      "say matter go sir man\n",
      "Topic 3:\n",
      "know ay take look well\n",
      "Topic 4:\n",
      "well see much pyrrhus good\n",
      "ACT II (None, None)\n",
      "NMF\n",
      "Topic 0:\n",
      "good night word ill beg\n",
      "Topic 1:\n",
      "love great could second fear\n",
      "Topic 2:\n",
      "come music revenge recorders sit\n",
      "Topic 3:\n",
      "mother father look much son\n",
      "Topic 4:\n",
      "well king play upon tis\n",
      "LDA\n",
      "Topic 0:\n",
      "like tis give speak heart\n",
      "Topic 1:\n",
      "sense could eyes fair pray\n",
      "Topic 2:\n",
      "good go well nothing night\n",
      "Topic 3:\n",
      "come one king make know\n",
      "Topic 4:\n",
      "love look mother upon may\n",
      "ACT III (None, None)\n",
      "NMF\n",
      "Topic 0:\n",
      "come let england away danes\n",
      "Topic 1:\n",
      "go king let us little\n",
      "Topic 2:\n",
      "good sir man like pray\n",
      "Topic 3:\n",
      "castle room another true love\n",
      "Topic 4:\n",
      "know without may part hand\n",
      "LDA\n",
      "Topic 0:\n",
      "go king us god alas\n",
      "Topic 1:\n",
      "could made fathers thing son\n",
      "Topic 2:\n",
      "good like castle room tis\n",
      "Topic 3:\n",
      "come let father death dead\n",
      "Topic 4:\n",
      "know much may say love\n",
      "ACT IV (None, None)\n",
      "NMF\n",
      "Topic 0:\n",
      "come let one nay tot\n",
      "Topic 1:\n",
      "sir know mine thank mock\n",
      "Topic 2:\n",
      "well gallows thats know ill\n",
      "Topic 3:\n",
      "first tell mad een cannot\n",
      "Topic 4:\n",
      "good ay sweet madam quiet\n",
      "LDA\n",
      "Topic 0:\n",
      "many death struck gentleman shot\n",
      "Topic 1:\n",
      "might earth een upon skull\n",
      "Topic 2:\n",
      "well sir take never much\n",
      "Topic 3:\n",
      "let come first dead speak\n",
      "Topic 4:\n",
      "good go know embrace fortune\n",
      "ACT V (None, None)\n"
     ]
    }
   ],
   "source": [
    "for i in ['ACT I','ACT II','ACT III','ACT IV','ACT V']:\n",
    "    print(i,NMF_LDA(\" \".join(Find_Acts_Model(Hamlet_lines)[i])))"
   ]
  },
  {
   "cell_type": "markdown",
   "metadata": {},
   "source": [
    "Run NMF/LDA on entire play (Hamlet)"
   ]
  },
  {
   "cell_type": "markdown",
   "metadata": {},
   "source": [
    "NMF_LDA(Hamlet_lines)"
   ]
  },
  {
   "cell_type": "code",
   "execution_count": null,
   "metadata": {
    "collapsed": true
   },
   "outputs": [],
   "source": []
  }
 ],
 "metadata": {
  "kernelspec": {
   "display_name": "Python 3",
   "language": "python",
   "name": "python3"
  },
  "language_info": {
   "codemirror_mode": {
    "name": "ipython",
    "version": 3
   },
   "file_extension": ".py",
   "mimetype": "text/x-python",
   "name": "python",
   "nbconvert_exporter": "python",
   "pygments_lexer": "ipython3",
   "version": "3.6.1"
  }
 },
 "nbformat": 4,
 "nbformat_minor": 2
}
